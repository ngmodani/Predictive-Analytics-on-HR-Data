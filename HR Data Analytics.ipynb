{
 "cells": [
  {
   "cell_type": "markdown",
   "metadata": {},
   "source": [
    "# HR Analytics"
   ]
  },
  {
   "cell_type": "markdown",
   "metadata": {},
   "source": [
    "### Try to predict which valuable employees will leave next "
   ]
  },
  {
   "cell_type": "markdown",
   "metadata": {},
   "source": [
    "** Why a company's best and most experienced employees leaving prematurely? **\n",
    "\n",
    "Here the aim is to train a classifier that can help Human Resource department to predict which employee is higly probable of leaving the organization. This way HR dept. can try to retain people which are probable to leave the company."
   ]
  },
  {
   "cell_type": "markdown",
   "metadata": {},
   "source": [
    ">*Importing required libraries*"
   ]
  },
  {
   "cell_type": "code",
   "execution_count": 1,
   "metadata": {
    "collapsed": true
   },
   "outputs": [],
   "source": [
    "%matplotlib inline \n",
    "import matplotlib.pyplot as plt\n",
    "import numpy as np\n",
    "import pandas as pd\n",
    "from scipy import stats\n",
    "import seaborn as sns\n",
    "# Make plots larger\n",
    "plt.rcParams['figure.figsize'] = (10, 6)\n",
    "\n",
    "from sklearn import cross_validation # used to test classifier\n",
    "from sklearn.cross_validation import KFold, cross_val_score, train_test_split\n",
    "from sklearn.neighbors import KNeighborsClassifier \n",
    "from sklearn import metrics\n",
    "\n",
    "import random\n",
    "from datetime import datetime\n",
    "random.seed(datetime.now())\n",
    "import warnings\n",
    "warnings.filterwarnings('ignore')\n",
    "\n",
    "from sklearn.preprocessing import StandardScaler # for scaling data \n",
    "from sklearn.metrics import roc_curve # ROC Curves\n",
    "from sklearn.metrics import auc # Calculating AUC for ROC's!\n",
    "\n",
    "from sklearn.naive_bayes import BernoulliNB,MultinomialNB, GaussianNB\n",
    "from sklearn.tree import DecisionTreeClassifier\n",
    "from sklearn.ensemble import RandomForestClassifier\n",
    "from sklearn.svm import SVC\n",
    "from sklearn.neighbors import NearestNeighbors\n",
    "from sklearn.metrics import accuracy_score, recall_score, precision_score"
   ]
  },
  {
   "cell_type": "code",
   "execution_count": 2,
   "metadata": {
    "collapsed": false
   },
   "outputs": [
    {
     "data": {
      "text/html": [
       "<div>\n",
       "<table border=\"1\" class=\"dataframe\">\n",
       "  <thead>\n",
       "    <tr style=\"text-align: right;\">\n",
       "      <th></th>\n",
       "      <th>satisfaction_level</th>\n",
       "      <th>last_evaluation</th>\n",
       "      <th>number_project</th>\n",
       "      <th>average_montly_hours</th>\n",
       "      <th>time_spend_company</th>\n",
       "      <th>Work_accident</th>\n",
       "      <th>left</th>\n",
       "      <th>promotion_last_5years</th>\n",
       "      <th>sales</th>\n",
       "      <th>salary</th>\n",
       "    </tr>\n",
       "  </thead>\n",
       "  <tbody>\n",
       "    <tr>\n",
       "      <th>0</th>\n",
       "      <td>0.38</td>\n",
       "      <td>0.53</td>\n",
       "      <td>2</td>\n",
       "      <td>157</td>\n",
       "      <td>3</td>\n",
       "      <td>0</td>\n",
       "      <td>1</td>\n",
       "      <td>0</td>\n",
       "      <td>sales</td>\n",
       "      <td>low</td>\n",
       "    </tr>\n",
       "    <tr>\n",
       "      <th>1</th>\n",
       "      <td>0.80</td>\n",
       "      <td>0.86</td>\n",
       "      <td>5</td>\n",
       "      <td>262</td>\n",
       "      <td>6</td>\n",
       "      <td>0</td>\n",
       "      <td>1</td>\n",
       "      <td>0</td>\n",
       "      <td>sales</td>\n",
       "      <td>medium</td>\n",
       "    </tr>\n",
       "    <tr>\n",
       "      <th>2</th>\n",
       "      <td>0.11</td>\n",
       "      <td>0.88</td>\n",
       "      <td>7</td>\n",
       "      <td>272</td>\n",
       "      <td>4</td>\n",
       "      <td>0</td>\n",
       "      <td>1</td>\n",
       "      <td>0</td>\n",
       "      <td>sales</td>\n",
       "      <td>medium</td>\n",
       "    </tr>\n",
       "    <tr>\n",
       "      <th>3</th>\n",
       "      <td>0.72</td>\n",
       "      <td>0.87</td>\n",
       "      <td>5</td>\n",
       "      <td>223</td>\n",
       "      <td>5</td>\n",
       "      <td>0</td>\n",
       "      <td>1</td>\n",
       "      <td>0</td>\n",
       "      <td>sales</td>\n",
       "      <td>low</td>\n",
       "    </tr>\n",
       "    <tr>\n",
       "      <th>4</th>\n",
       "      <td>0.37</td>\n",
       "      <td>0.52</td>\n",
       "      <td>2</td>\n",
       "      <td>159</td>\n",
       "      <td>3</td>\n",
       "      <td>0</td>\n",
       "      <td>1</td>\n",
       "      <td>0</td>\n",
       "      <td>sales</td>\n",
       "      <td>low</td>\n",
       "    </tr>\n",
       "  </tbody>\n",
       "</table>\n",
       "</div>"
      ],
      "text/plain": [
       "   satisfaction_level  last_evaluation  number_project  average_montly_hours  \\\n",
       "0                0.38             0.53               2                   157   \n",
       "1                0.80             0.86               5                   262   \n",
       "2                0.11             0.88               7                   272   \n",
       "3                0.72             0.87               5                   223   \n",
       "4                0.37             0.52               2                   159   \n",
       "\n",
       "   time_spend_company  Work_accident  left  promotion_last_5years  sales  \\\n",
       "0                   3              0     1                      0  sales   \n",
       "1                   6              0     1                      0  sales   \n",
       "2                   4              0     1                      0  sales   \n",
       "3                   5              0     1                      0  sales   \n",
       "4                   3              0     1                      0  sales   \n",
       "\n",
       "   salary  \n",
       "0     low  \n",
       "1  medium  \n",
       "2  medium  \n",
       "3     low  \n",
       "4     low  "
      ]
     },
     "execution_count": 2,
     "metadata": {},
     "output_type": "execute_result"
    }
   ],
   "source": [
    "hr_data_df = pd.read_csv('HR_comma_sep.csv')\n",
    "hr_data_df.head()"
   ]
  },
  {
   "cell_type": "markdown",
   "metadata": {},
   "source": [
    "### Pre Processing and Exploratory Analysis of Data"
   ]
  },
  {
   "cell_type": "code",
   "execution_count": 3,
   "metadata": {
    "collapsed": true
   },
   "outputs": [],
   "source": [
    "hr_data_df.rename(columns={'sales': 'department'},inplace=True)"
   ]
  },
  {
   "cell_type": "code",
   "execution_count": 4,
   "metadata": {
    "collapsed": false
   },
   "outputs": [
    {
     "data": {
      "text/plain": [
       "satisfaction_level       False\n",
       "last_evaluation          False\n",
       "number_project           False\n",
       "average_montly_hours     False\n",
       "time_spend_company       False\n",
       "Work_accident            False\n",
       "left                     False\n",
       "promotion_last_5years    False\n",
       "department               False\n",
       "salary                   False\n",
       "dtype: bool"
      ]
     },
     "execution_count": 4,
     "metadata": {},
     "output_type": "execute_result"
    }
   ],
   "source": [
    "# Check for missing values in our data set\n",
    "hr_data_df.isnull().any()"
   ]
  },
  {
   "cell_type": "code",
   "execution_count": 5,
   "metadata": {
    "collapsed": false
   },
   "outputs": [
    {
     "data": {
      "text/plain": [
       "(14999, 10)"
      ]
     },
     "execution_count": 5,
     "metadata": {},
     "output_type": "execute_result"
    }
   ],
   "source": [
    "# Size of data\n",
    "hr_data_df.shape"
   ]
  },
  {
   "cell_type": "code",
   "execution_count": 6,
   "metadata": {
    "collapsed": false
   },
   "outputs": [
    {
     "data": {
      "text/plain": [
       "satisfaction_level       float64\n",
       "last_evaluation          float64\n",
       "number_project             int64\n",
       "average_montly_hours       int64\n",
       "time_spend_company         int64\n",
       "Work_accident              int64\n",
       "left                       int64\n",
       "promotion_last_5years      int64\n",
       "department                object\n",
       "salary                    object\n",
       "dtype: object"
      ]
     },
     "execution_count": 6,
     "metadata": {},
     "output_type": "execute_result"
    }
   ],
   "source": [
    "# Data type of our columns. \n",
    "hr_data_df.dtypes"
   ]
  },
  {
   "cell_type": "code",
   "execution_count": 7,
   "metadata": {
    "collapsed": false
   },
   "outputs": [
    {
     "data": {
      "text/plain": [
       "0    0.761917\n",
       "1    0.238083\n",
       "Name: left, dtype: float64"
      ]
     },
     "execution_count": 7,
     "metadata": {},
     "output_type": "execute_result"
    }
   ],
   "source": [
    "leaving_rate_of_employees = hr_data_df.left.value_counts() / len(hr_data_df)\n",
    "leaving_rate_of_employees"
   ]
  },
  {
   "cell_type": "markdown",
   "metadata": {},
   "source": [
    "__ Looks like about 24% of employees left & 76% still working__ "
   ]
  },
  {
   "cell_type": "code",
   "execution_count": 8,
   "metadata": {
    "collapsed": false
   },
   "outputs": [
    {
     "data": {
      "text/html": [
       "<div>\n",
       "<table border=\"1\" class=\"dataframe\">\n",
       "  <thead>\n",
       "    <tr style=\"text-align: right;\">\n",
       "      <th></th>\n",
       "      <th>satisfaction_level</th>\n",
       "      <th>last_evaluation</th>\n",
       "      <th>number_project</th>\n",
       "      <th>average_montly_hours</th>\n",
       "      <th>time_spend_company</th>\n",
       "      <th>Work_accident</th>\n",
       "      <th>left</th>\n",
       "      <th>promotion_last_5years</th>\n",
       "    </tr>\n",
       "  </thead>\n",
       "  <tbody>\n",
       "    <tr>\n",
       "      <th>count</th>\n",
       "      <td>14999.000000</td>\n",
       "      <td>14999.000000</td>\n",
       "      <td>14999.000000</td>\n",
       "      <td>14999.000000</td>\n",
       "      <td>14999.000000</td>\n",
       "      <td>14999.000000</td>\n",
       "      <td>14999.000000</td>\n",
       "      <td>14999.000000</td>\n",
       "    </tr>\n",
       "    <tr>\n",
       "      <th>mean</th>\n",
       "      <td>0.612834</td>\n",
       "      <td>0.716102</td>\n",
       "      <td>3.803054</td>\n",
       "      <td>201.050337</td>\n",
       "      <td>3.498233</td>\n",
       "      <td>0.144610</td>\n",
       "      <td>0.238083</td>\n",
       "      <td>0.021268</td>\n",
       "    </tr>\n",
       "    <tr>\n",
       "      <th>std</th>\n",
       "      <td>0.248631</td>\n",
       "      <td>0.171169</td>\n",
       "      <td>1.232592</td>\n",
       "      <td>49.943099</td>\n",
       "      <td>1.460136</td>\n",
       "      <td>0.351719</td>\n",
       "      <td>0.425924</td>\n",
       "      <td>0.144281</td>\n",
       "    </tr>\n",
       "    <tr>\n",
       "      <th>min</th>\n",
       "      <td>0.090000</td>\n",
       "      <td>0.360000</td>\n",
       "      <td>2.000000</td>\n",
       "      <td>96.000000</td>\n",
       "      <td>2.000000</td>\n",
       "      <td>0.000000</td>\n",
       "      <td>0.000000</td>\n",
       "      <td>0.000000</td>\n",
       "    </tr>\n",
       "    <tr>\n",
       "      <th>25%</th>\n",
       "      <td>0.440000</td>\n",
       "      <td>0.560000</td>\n",
       "      <td>3.000000</td>\n",
       "      <td>156.000000</td>\n",
       "      <td>3.000000</td>\n",
       "      <td>0.000000</td>\n",
       "      <td>0.000000</td>\n",
       "      <td>0.000000</td>\n",
       "    </tr>\n",
       "    <tr>\n",
       "      <th>50%</th>\n",
       "      <td>0.640000</td>\n",
       "      <td>0.720000</td>\n",
       "      <td>4.000000</td>\n",
       "      <td>200.000000</td>\n",
       "      <td>3.000000</td>\n",
       "      <td>0.000000</td>\n",
       "      <td>0.000000</td>\n",
       "      <td>0.000000</td>\n",
       "    </tr>\n",
       "    <tr>\n",
       "      <th>75%</th>\n",
       "      <td>0.820000</td>\n",
       "      <td>0.870000</td>\n",
       "      <td>5.000000</td>\n",
       "      <td>245.000000</td>\n",
       "      <td>4.000000</td>\n",
       "      <td>0.000000</td>\n",
       "      <td>0.000000</td>\n",
       "      <td>0.000000</td>\n",
       "    </tr>\n",
       "    <tr>\n",
       "      <th>max</th>\n",
       "      <td>1.000000</td>\n",
       "      <td>1.000000</td>\n",
       "      <td>7.000000</td>\n",
       "      <td>310.000000</td>\n",
       "      <td>10.000000</td>\n",
       "      <td>1.000000</td>\n",
       "      <td>1.000000</td>\n",
       "      <td>1.000000</td>\n",
       "    </tr>\n",
       "  </tbody>\n",
       "</table>\n",
       "</div>"
      ],
      "text/plain": [
       "       satisfaction_level  last_evaluation  number_project  \\\n",
       "count        14999.000000     14999.000000    14999.000000   \n",
       "mean             0.612834         0.716102        3.803054   \n",
       "std              0.248631         0.171169        1.232592   \n",
       "min              0.090000         0.360000        2.000000   \n",
       "25%              0.440000         0.560000        3.000000   \n",
       "50%              0.640000         0.720000        4.000000   \n",
       "75%              0.820000         0.870000        5.000000   \n",
       "max              1.000000         1.000000        7.000000   \n",
       "\n",
       "       average_montly_hours  time_spend_company  Work_accident          left  \\\n",
       "count          14999.000000        14999.000000   14999.000000  14999.000000   \n",
       "mean             201.050337            3.498233       0.144610      0.238083   \n",
       "std               49.943099            1.460136       0.351719      0.425924   \n",
       "min               96.000000            2.000000       0.000000      0.000000   \n",
       "25%              156.000000            3.000000       0.000000      0.000000   \n",
       "50%              200.000000            3.000000       0.000000      0.000000   \n",
       "75%              245.000000            4.000000       0.000000      0.000000   \n",
       "max              310.000000           10.000000       1.000000      1.000000   \n",
       "\n",
       "       promotion_last_5years  \n",
       "count           14999.000000  \n",
       "mean                0.021268  \n",
       "std                 0.144281  \n",
       "min                 0.000000  \n",
       "25%                 0.000000  \n",
       "50%                 0.000000  \n",
       "75%                 0.000000  \n",
       "max                 1.000000  "
      ]
     },
     "execution_count": 8,
     "metadata": {},
     "output_type": "execute_result"
    }
   ],
   "source": [
    "# Statistical Summary of the data\n",
    "hr_data_df.describe()"
   ]
  },
  {
   "cell_type": "markdown",
   "metadata": {},
   "source": [
    "> __Correlation Matrix__"
   ]
  },
  {
   "cell_type": "code",
   "execution_count": 9,
   "metadata": {
    "collapsed": false
   },
   "outputs": [
    {
     "data": {
      "text/html": [
       "<div>\n",
       "<table border=\"1\" class=\"dataframe\">\n",
       "  <thead>\n",
       "    <tr style=\"text-align: right;\">\n",
       "      <th></th>\n",
       "      <th>satisfaction_level</th>\n",
       "      <th>last_evaluation</th>\n",
       "      <th>number_project</th>\n",
       "      <th>average_montly_hours</th>\n",
       "      <th>time_spend_company</th>\n",
       "      <th>Work_accident</th>\n",
       "      <th>left</th>\n",
       "      <th>promotion_last_5years</th>\n",
       "    </tr>\n",
       "  </thead>\n",
       "  <tbody>\n",
       "    <tr>\n",
       "      <th>satisfaction_level</th>\n",
       "      <td>1.000000</td>\n",
       "      <td>0.105021</td>\n",
       "      <td>-0.142970</td>\n",
       "      <td>-0.020048</td>\n",
       "      <td>-0.100866</td>\n",
       "      <td>0.058697</td>\n",
       "      <td>-0.388375</td>\n",
       "      <td>0.025605</td>\n",
       "    </tr>\n",
       "    <tr>\n",
       "      <th>last_evaluation</th>\n",
       "      <td>0.105021</td>\n",
       "      <td>1.000000</td>\n",
       "      <td>0.349333</td>\n",
       "      <td>0.339742</td>\n",
       "      <td>0.131591</td>\n",
       "      <td>-0.007104</td>\n",
       "      <td>0.006567</td>\n",
       "      <td>-0.008684</td>\n",
       "    </tr>\n",
       "    <tr>\n",
       "      <th>number_project</th>\n",
       "      <td>-0.142970</td>\n",
       "      <td>0.349333</td>\n",
       "      <td>1.000000</td>\n",
       "      <td>0.417211</td>\n",
       "      <td>0.196786</td>\n",
       "      <td>-0.004741</td>\n",
       "      <td>0.023787</td>\n",
       "      <td>-0.006064</td>\n",
       "    </tr>\n",
       "    <tr>\n",
       "      <th>average_montly_hours</th>\n",
       "      <td>-0.020048</td>\n",
       "      <td>0.339742</td>\n",
       "      <td>0.417211</td>\n",
       "      <td>1.000000</td>\n",
       "      <td>0.127755</td>\n",
       "      <td>-0.010143</td>\n",
       "      <td>0.071287</td>\n",
       "      <td>-0.003544</td>\n",
       "    </tr>\n",
       "    <tr>\n",
       "      <th>time_spend_company</th>\n",
       "      <td>-0.100866</td>\n",
       "      <td>0.131591</td>\n",
       "      <td>0.196786</td>\n",
       "      <td>0.127755</td>\n",
       "      <td>1.000000</td>\n",
       "      <td>0.002120</td>\n",
       "      <td>0.144822</td>\n",
       "      <td>0.067433</td>\n",
       "    </tr>\n",
       "    <tr>\n",
       "      <th>Work_accident</th>\n",
       "      <td>0.058697</td>\n",
       "      <td>-0.007104</td>\n",
       "      <td>-0.004741</td>\n",
       "      <td>-0.010143</td>\n",
       "      <td>0.002120</td>\n",
       "      <td>1.000000</td>\n",
       "      <td>-0.154622</td>\n",
       "      <td>0.039245</td>\n",
       "    </tr>\n",
       "    <tr>\n",
       "      <th>left</th>\n",
       "      <td>-0.388375</td>\n",
       "      <td>0.006567</td>\n",
       "      <td>0.023787</td>\n",
       "      <td>0.071287</td>\n",
       "      <td>0.144822</td>\n",
       "      <td>-0.154622</td>\n",
       "      <td>1.000000</td>\n",
       "      <td>-0.061788</td>\n",
       "    </tr>\n",
       "    <tr>\n",
       "      <th>promotion_last_5years</th>\n",
       "      <td>0.025605</td>\n",
       "      <td>-0.008684</td>\n",
       "      <td>-0.006064</td>\n",
       "      <td>-0.003544</td>\n",
       "      <td>0.067433</td>\n",
       "      <td>0.039245</td>\n",
       "      <td>-0.061788</td>\n",
       "      <td>1.000000</td>\n",
       "    </tr>\n",
       "  </tbody>\n",
       "</table>\n",
       "</div>"
      ],
      "text/plain": [
       "                       satisfaction_level  last_evaluation  number_project  \\\n",
       "satisfaction_level               1.000000         0.105021       -0.142970   \n",
       "last_evaluation                  0.105021         1.000000        0.349333   \n",
       "number_project                  -0.142970         0.349333        1.000000   \n",
       "average_montly_hours            -0.020048         0.339742        0.417211   \n",
       "time_spend_company              -0.100866         0.131591        0.196786   \n",
       "Work_accident                    0.058697        -0.007104       -0.004741   \n",
       "left                            -0.388375         0.006567        0.023787   \n",
       "promotion_last_5years            0.025605        -0.008684       -0.006064   \n",
       "\n",
       "                       average_montly_hours  time_spend_company  \\\n",
       "satisfaction_level                -0.020048           -0.100866   \n",
       "last_evaluation                    0.339742            0.131591   \n",
       "number_project                     0.417211            0.196786   \n",
       "average_montly_hours               1.000000            0.127755   \n",
       "time_spend_company                 0.127755            1.000000   \n",
       "Work_accident                     -0.010143            0.002120   \n",
       "left                               0.071287            0.144822   \n",
       "promotion_last_5years             -0.003544            0.067433   \n",
       "\n",
       "                       Work_accident      left  promotion_last_5years  \n",
       "satisfaction_level          0.058697 -0.388375               0.025605  \n",
       "last_evaluation            -0.007104  0.006567              -0.008684  \n",
       "number_project             -0.004741  0.023787              -0.006064  \n",
       "average_montly_hours       -0.010143  0.071287              -0.003544  \n",
       "time_spend_company          0.002120  0.144822               0.067433  \n",
       "Work_accident               1.000000 -0.154622               0.039245  \n",
       "left                       -0.154622  1.000000              -0.061788  \n",
       "promotion_last_5years       0.039245 -0.061788               1.000000  "
      ]
     },
     "execution_count": 9,
     "metadata": {},
     "output_type": "execute_result"
    },
    {
     "data": {
      "image/png": "[encoded data removed]",
      "text/plain": [
       "<matplotlib.figure.Figure at 0x11c38d550>"
      ]
     },
     "metadata": {},
     "output_type": "display_data"
    }
   ],
   "source": [
    "corr = hr_data_df.corr()\n",
    "corr = (corr)\n",
    "sns.heatmap(corr, \n",
    "            xticklabels=corr.columns.values,\n",
    "            yticklabels=corr.columns.values)\n",
    "sns.plt.title('Heatmap of Correlation Matrix')\n",
    "corr"
   ]
  },
  {
   "cell_type": "markdown",
   "metadata": {},
   "source": [
    ">Here we can see no significant correlation **except in dependent variable left**. It means:\n",
    ">* There is NO linear correlation between features,\n",
    ">* BUT there can be non-linear correlation between features\n",
    "\n",
    "### Now, Boxplot to find outliers"
   ]
  },
  {
   "cell_type": "code",
   "execution_count": 10,
   "metadata": {
    "collapsed": false
   },
   "outputs": [
    {
     "data": {
      "image/png": "[encoded data removed]",
      "text/plain": [
       "<matplotlib.figure.Figure at 0x11eaa23c8>"
      ]
     },
     "metadata": {},
     "output_type": "display_data"
    }
   ],
   "source": [
    "# To briefly see the data distribution and if there're outliers\n",
    "\n",
    "f, ax = plt.subplots(figsize=(11, 15))\n",
    "\n",
    "ax.set_axis_bgcolor('#FFFFFF')\n",
    "plt.title(\"Data Unscaled\")\n",
    "ax.set(xlim=(-.05, 50.05))\n",
    "ax = sns.boxplot(data = hr_data_df,orient = 'h')"
   ]
  },
  {
   "cell_type": "code",
   "execution_count": 11,
   "metadata": {
    "collapsed": false
   },
   "outputs": [
    {
     "data": {
      "text/plain": [
       "<seaborn.axisgrid.FacetGrid at 0x11c38d278>"
      ]
     },
     "execution_count": 11,
     "metadata": {},
     "output_type": "execute_result"
    },
    {
     "data": {
      "image/png": "[encoded data removed]",
      "text/plain": [
       "<matplotlib.figure.Figure at 0x11c38d2e8>"
      ]
     },
     "metadata": {},
     "output_type": "display_data"
    }
   ],
   "source": [
    "# Outliers do exist but looks like only for simply time_spend_company\n",
    "qw = sns.FacetGrid(hr_data_df, col = 'left')\n",
    "qw.map(sns.boxplot, 'time_spend_company')"
   ]
  },
  {
   "cell_type": "code",
   "execution_count": 12,
   "metadata": {
    "collapsed": true
   },
   "outputs": [],
   "source": [
    "# drop those observations\n",
    "dropdata = hr_data_df[hr_data_df['time_spend_company'] >= 8]\n",
    "hr_data_df.drop(dropdata.index, inplace = True)"
   ]
  },
  {
   "cell_type": "markdown",
   "metadata": {},
   "source": [
    "> Most packages are not able to deal with string variables. Therefore we need to convert string to numeric"
   ]
  },
  {
   "cell_type": "code",
   "execution_count": 13,
   "metadata": {
    "collapsed": false
   },
   "outputs": [
    {
     "data": {
      "text/plain": [
       "(array(['sales', 'accounting', 'hr', 'technical', 'support', 'management',\n",
       "        'IT', 'product_mng', 'marketing', 'RandD'], dtype=object),\n",
       " array(['low', 'medium', 'high'], dtype=object))"
      ]
     },
     "execution_count": 13,
     "metadata": {},
     "output_type": "execute_result"
    }
   ],
   "source": [
    "# First check what string values are\n",
    "hr_data_df['department'].unique(),hr_data_df['salary'].unique()"
   ]
  },
  {
   "cell_type": "markdown",
   "metadata": {},
   "source": [
    ">Converting Above to Dummy Variables"
   ]
  },
  {
   "cell_type": "code",
   "execution_count": 14,
   "metadata": {
    "collapsed": false
   },
   "outputs": [
    {
     "name": "stdout",
     "output_type": "stream",
     "text": [
      "Index(['satisfaction_level', 'last_evaluation', 'number_project',\n",
      "       'average_montly_hours', 'time_spend_company', 'Work_accident', 'left',\n",
      "       'promotion_last_5years', 'IT', 'RandD', 'accounting', 'hr',\n",
      "       'management', 'marketing', 'product_mng', 'sales', 'support',\n",
      "       'technical', 'high', 'low', 'medium'],\n",
      "      dtype='object')\n"
     ]
    },
    {
     "data": {
      "text/html": [
       "<div>\n",
       "<table border=\"1\" class=\"dataframe\">\n",
       "  <thead>\n",
       "    <tr style=\"text-align: right;\">\n",
       "      <th></th>\n",
       "      <th>satisfaction_level</th>\n",
       "      <th>last_evaluation</th>\n",
       "      <th>number_project</th>\n",
       "      <th>average_montly_hours</th>\n",
       "      <th>time_spend_company</th>\n",
       "      <th>Work_accident</th>\n",
       "      <th>left</th>\n",
       "      <th>promotion_last_5years</th>\n",
       "      <th>IT</th>\n",
       "      <th>RandD</th>\n",
       "      <th>...</th>\n",
       "      <th>hr</th>\n",
       "      <th>management</th>\n",
       "      <th>marketing</th>\n",
       "      <th>product_mng</th>\n",
       "      <th>sales</th>\n",
       "      <th>support</th>\n",
       "      <th>technical</th>\n",
       "      <th>high</th>\n",
       "      <th>low</th>\n",
       "      <th>medium</th>\n",
       "    </tr>\n",
       "  </thead>\n",
       "  <tbody>\n",
       "    <tr>\n",
       "      <th>0</th>\n",
       "      <td>0.38</td>\n",
       "      <td>0.53</td>\n",
       "      <td>2</td>\n",
       "      <td>157</td>\n",
       "      <td>3</td>\n",
       "      <td>0</td>\n",
       "      <td>1</td>\n",
       "      <td>0</td>\n",
       "      <td>0.0</td>\n",
       "      <td>0.0</td>\n",
       "      <td>...</td>\n",
       "      <td>0.0</td>\n",
       "      <td>0.0</td>\n",
       "      <td>0.0</td>\n",
       "      <td>0.0</td>\n",
       "      <td>1.0</td>\n",
       "      <td>0.0</td>\n",
       "      <td>0.0</td>\n",
       "      <td>0.0</td>\n",
       "      <td>1.0</td>\n",
       "      <td>0.0</td>\n",
       "    </tr>\n",
       "    <tr>\n",
       "      <th>1</th>\n",
       "      <td>0.80</td>\n",
       "      <td>0.86</td>\n",
       "      <td>5</td>\n",
       "      <td>262</td>\n",
       "      <td>6</td>\n",
       "      <td>0</td>\n",
       "      <td>1</td>\n",
       "      <td>0</td>\n",
       "      <td>0.0</td>\n",
       "      <td>0.0</td>\n",
       "      <td>...</td>\n",
       "      <td>0.0</td>\n",
       "      <td>0.0</td>\n",
       "      <td>0.0</td>\n",
       "      <td>0.0</td>\n",
       "      <td>1.0</td>\n",
       "      <td>0.0</td>\n",
       "      <td>0.0</td>\n",
       "      <td>0.0</td>\n",
       "      <td>0.0</td>\n",
       "      <td>1.0</td>\n",
       "    </tr>\n",
       "    <tr>\n",
       "      <th>2</th>\n",
       "      <td>0.11</td>\n",
       "      <td>0.88</td>\n",
       "      <td>7</td>\n",
       "      <td>272</td>\n",
       "      <td>4</td>\n",
       "      <td>0</td>\n",
       "      <td>1</td>\n",
       "      <td>0</td>\n",
       "      <td>0.0</td>\n",
       "      <td>0.0</td>\n",
       "      <td>...</td>\n",
       "      <td>0.0</td>\n",
       "      <td>0.0</td>\n",
       "      <td>0.0</td>\n",
       "      <td>0.0</td>\n",
       "      <td>1.0</td>\n",
       "      <td>0.0</td>\n",
       "      <td>0.0</td>\n",
       "      <td>0.0</td>\n",
       "      <td>0.0</td>\n",
       "      <td>1.0</td>\n",
       "    </tr>\n",
       "    <tr>\n",
       "      <th>3</th>\n",
       "      <td>0.72</td>\n",
       "      <td>0.87</td>\n",
       "      <td>5</td>\n",
       "      <td>223</td>\n",
       "      <td>5</td>\n",
       "      <td>0</td>\n",
       "      <td>1</td>\n",
       "      <td>0</td>\n",
       "      <td>0.0</td>\n",
       "      <td>0.0</td>\n",
       "      <td>...</td>\n",
       "      <td>0.0</td>\n",
       "      <td>0.0</td>\n",
       "      <td>0.0</td>\n",
       "      <td>0.0</td>\n",
       "      <td>1.0</td>\n",
       "      <td>0.0</td>\n",
       "      <td>0.0</td>\n",
       "      <td>0.0</td>\n",
       "      <td>1.0</td>\n",
       "      <td>0.0</td>\n",
       "    </tr>\n",
       "    <tr>\n",
       "      <th>4</th>\n",
       "      <td>0.37</td>\n",
       "      <td>0.52</td>\n",
       "      <td>2</td>\n",
       "      <td>159</td>\n",
       "      <td>3</td>\n",
       "      <td>0</td>\n",
       "      <td>1</td>\n",
       "      <td>0</td>\n",
       "      <td>0.0</td>\n",
       "      <td>0.0</td>\n",
       "      <td>...</td>\n",
       "      <td>0.0</td>\n",
       "      <td>0.0</td>\n",
       "      <td>0.0</td>\n",
       "      <td>0.0</td>\n",
       "      <td>1.0</td>\n",
       "      <td>0.0</td>\n",
       "      <td>0.0</td>\n",
       "      <td>0.0</td>\n",
       "      <td>1.0</td>\n",
       "      <td>0.0</td>\n",
       "    </tr>\n",
       "  </tbody>\n",
       "</table>\n",
       "<p>5 rows × 21 columns</p>\n",
       "</div>"
      ],
      "text/plain": [
       "   satisfaction_level  last_evaluation  number_project  average_montly_hours  \\\n",
       "0                0.38             0.53               2                   157   \n",
       "1                0.80             0.86               5                   262   \n",
       "2                0.11             0.88               7                   272   \n",
       "3                0.72             0.87               5                   223   \n",
       "4                0.37             0.52               2                   159   \n",
       "\n",
       "   time_spend_company  Work_accident  left  promotion_last_5years   IT  RandD  \\\n",
       "0                   3              0     1                      0  0.0    0.0   \n",
       "1                   6              0     1                      0  0.0    0.0   \n",
       "2                   4              0     1                      0  0.0    0.0   \n",
       "3                   5              0     1                      0  0.0    0.0   \n",
       "4                   3              0     1                      0  0.0    0.0   \n",
       "\n",
       "    ...     hr  management  marketing  product_mng  sales  support  technical  \\\n",
       "0   ...    0.0         0.0        0.0          0.0    1.0      0.0        0.0   \n",
       "1   ...    0.0         0.0        0.0          0.0    1.0      0.0        0.0   \n",
       "2   ...    0.0         0.0        0.0          0.0    1.0      0.0        0.0   \n",
       "3   ...    0.0         0.0        0.0          0.0    1.0      0.0        0.0   \n",
       "4   ...    0.0         0.0        0.0          0.0    1.0      0.0        0.0   \n",
       "\n",
       "   high  low  medium  \n",
       "0   0.0  1.0     0.0  \n",
       "1   0.0  0.0     1.0  \n",
       "2   0.0  0.0     1.0  \n",
       "3   0.0  1.0     0.0  \n",
       "4   0.0  1.0     0.0  \n",
       "\n",
       "[5 rows x 21 columns]"
      ]
     },
     "execution_count": 14,
     "metadata": {},
     "output_type": "execute_result"
    }
   ],
   "source": [
    "X = hr_data_df.rename(columns={'department': 'department1'})\n",
    "X_department = pd.get_dummies(X['department1'])\n",
    "X_salary = pd.get_dummies( hr_data_df['salary'] )\n",
    "Xd = pd.concat( [X, X_department, X_salary], axis=1 )\n",
    "Xd = Xd.drop( ['department1','salary'], axis=1)\n",
    "print( Xd.columns )\n",
    "Xd.head()"
   ]
  },
  {
   "cell_type": "markdown",
   "metadata": {},
   "source": [
    "> Separating our Dependent variable __left__"
   ]
  },
  {
   "cell_type": "code",
   "execution_count": 15,
   "metadata": {
    "collapsed": false
   },
   "outputs": [
    {
     "name": "stdout",
     "output_type": "stream",
     "text": [
      "(14623, 20)\n",
      "(14623,)\n"
     ]
    }
   ],
   "source": [
    "X = Xd.drop('left', axis=1)\n",
    "y = Xd['left']\n",
    "print( X.shape )\n",
    "print( y.shape )"
   ]
  },
  {
   "cell_type": "markdown",
   "metadata": {},
   "source": [
    "> Function to Divide data into a training and a testing set (30% testing)"
   ]
  },
  {
   "cell_type": "code",
   "execution_count": 16,
   "metadata": {
    "collapsed": true
   },
   "outputs": [],
   "source": [
    "def split_data(X,y):\n",
    "    X_train, X_test, y_train, y_test = train_test_split(X, y, test_size= .3, random_state=0)\n",
    "    return X_train, X_test, y_train, y_test"
   ]
  },
  {
   "cell_type": "markdown",
   "metadata": {},
   "source": [
    "> Function to Scale Data"
   ]
  },
  {
   "cell_type": "code",
   "execution_count": 17,
   "metadata": {
    "collapsed": true
   },
   "outputs": [],
   "source": [
    "def scaled_df(df):\n",
    "    scaled = pd.DataFrame()\n",
    "    for item in df:\n",
    "        if item in df.select_dtypes(include=[np.float]):\n",
    "            scaled[item] = ((df[item] - df[item].min()) / \n",
    "            (df[item].max() - df[item].min()))\n",
    "        else: \n",
    "            scaled[item] = df[item]\n",
    "    return scaled"
   ]
  },
  {
   "cell_type": "markdown",
   "metadata": {},
   "source": [
    "> Function to normalize data "
   ]
  },
  {
   "cell_type": "code",
   "execution_count": 18,
   "metadata": {
    "collapsed": true
   },
   "outputs": [],
   "source": [
    "def normalize(df):\n",
    "    return (df - df.mean()) / (df.max() - df.min())"
   ]
  },
  {
   "cell_type": "markdown",
   "metadata": {},
   "source": [
    "# Part A - kNN Classifier"
   ]
  },
  {
   "cell_type": "markdown",
   "metadata": {},
   "source": [
    "__Running for Unscaled Data__"
   ]
  },
  {
   "cell_type": "code",
   "execution_count": 19,
   "metadata": {
    "collapsed": false
   },
   "outputs": [
    {
     "name": "stdout",
     "output_type": "stream",
     "text": [
      "Optimal K is 1\n"
     ]
    }
   ],
   "source": [
    "X_train, X_test, y_train, y_test = split_data(X,y)\n",
    "knn_k = []\n",
    "for i in range(0,20):  # try up to k=20\n",
    "    if (i % 2 != 0): # Use only odd k \n",
    "        knn_k.append(i)\n",
    "\n",
    "cross_vals = []\n",
    "for k in knn_k:\n",
    "    knn = KNeighborsClassifier(n_neighbors=k)\n",
    "    scores = cross_val_score(knn,\n",
    "                             X_train, \n",
    "                             y_train, \n",
    "                             cv = 10, \n",
    "                             scoring='accuracy')\n",
    "    cross_vals.append(scores.mean())\n",
    "\n",
    "MSE = [1 - x for x in cross_vals]\n",
    "optimal_k = knn_k[MSE.index(min(MSE))]\n",
    "print(\"Optimal K is {0}\".format(optimal_k))"
   ]
  },
  {
   "cell_type": "code",
   "execution_count": 20,
   "metadata": {
    "collapsed": false
   },
   "outputs": [
    {
     "name": "stdout",
     "output_type": "stream",
     "text": [
      "KfoldCrossVal mean score using kNN is 0.945683056656\n",
      "Accuracy score using kNN is 0.951219512195\n"
     ]
    }
   ],
   "source": [
    "# setting kNN classifier\n",
    "knn = KNeighborsClassifier(n_neighbors=1)\n",
    "\n",
    "#dividing data to have a training and a testing set\n",
    "#X_train, X_test, y_train, y_test = train_test_split(X, y, test_size= .4, random_state=0)\n",
    "\n",
    "# kNN cross validation\n",
    "Kfold = KFold(len(X_train), n_folds=5, shuffle=False)\n",
    "print(\"KfoldCrossVal mean score using kNN is %s\" %cross_val_score(knn,X_train,y_train,cv=10,scoring='accuracy').mean())\n",
    "\n",
    "# kNN metrics\n",
    "kNNm = knn.fit(X_train, y_train)\n",
    "\n",
    "y_pred = kNNm.predict(X_test)\n",
    "print(\"Accuracy score using kNN is %s\" %metrics.accuracy_score(y_test, y_pred))"
   ]
  },
  {
   "cell_type": "markdown",
   "metadata": {},
   "source": [
    "__Running for scaled data__"
   ]
  },
  {
   "cell_type": "code",
   "execution_count": 21,
   "metadata": {
    "collapsed": false
   },
   "outputs": [
    {
     "name": "stdout",
     "output_type": "stream",
     "text": [
      "Optimal K is 1\n"
     ]
    }
   ],
   "source": [
    "X_train, X_test, y_train, y_test = split_data(scaled_df(X),y)\n",
    "knn_k = []\n",
    "for i in range(0,20):  # try up to k=20\n",
    "    if (i % 2 != 0): # Use only odd k \n",
    "        knn_k.append(i)\n",
    "\n",
    "cross_vals = []\n",
    "for k in knn_k:\n",
    "    knn = KNeighborsClassifier(n_neighbors=k)\n",
    "    scores = cross_val_score(knn,\n",
    "                             X_train, \n",
    "                             y_train, \n",
    "                             cv = 10, \n",
    "                             scoring='accuracy')\n",
    "    cross_vals.append(scores.mean())\n",
    "\n",
    "MSE = [1 - x for x in cross_vals]\n",
    "optimal_k = knn_k[MSE.index(min(MSE))]\n",
    "print(\"Optimal K is {0}\".format(optimal_k))"
   ]
  },
  {
   "cell_type": "code",
   "execution_count": 22,
   "metadata": {
    "collapsed": false
   },
   "outputs": [
    {
     "name": "stdout",
     "output_type": "stream",
     "text": [
      "KfoldCrossVal mean score using kNN is 0.945683152116\n",
      "Accuracy score using kNN is 0.949851834967\n"
     ]
    }
   ],
   "source": [
    "# setting kNN classifier\n",
    "knn = KNeighborsClassifier(n_neighbors=1)\n",
    "\n",
    "#dividing data to have a training and a testing set\n",
    "#X_train, X_test, y_train, y_test = train_test_split(X, y, test_size= .4, random_state=0)\n",
    "\n",
    "# kNN cross validation\n",
    "Kfold = KFold(len(X_train), n_folds=5, shuffle=False)\n",
    "print(\"KfoldCrossVal mean score using kNN is %s\" %cross_val_score(knn,X_train,y_train,cv=10,scoring='accuracy').mean())\n",
    "\n",
    "# kNN metrics\n",
    "kNNm = knn.fit(X_train, y_train)\n",
    "\n",
    "y_pred = kNNm.predict(X_test)\n",
    "print(\"Accuracy score using kNN is %s\" %metrics.accuracy_score(y_test, y_pred))"
   ]
  },
  {
   "cell_type": "markdown",
   "metadata": {},
   "source": [
    "__Running for Normalized Data__"
   ]
  },
  {
   "cell_type": "code",
   "execution_count": 23,
   "metadata": {
    "collapsed": false
   },
   "outputs": [
    {
     "name": "stdout",
     "output_type": "stream",
     "text": [
      "Optimal K is 1\n"
     ]
    }
   ],
   "source": [
    "X_train, X_test, y_train, y_test = split_data(normalize(X),y)\n",
    "knn_k = []\n",
    "for i in range(0,20):  # try up to k=20\n",
    "    if (i % 2 != 0): # Use only odd k \n",
    "        knn_k.append(i)\n",
    "\n",
    "cross_vals = []\n",
    "for k in knn_k:\n",
    "    knn = KNeighborsClassifier(n_neighbors=k)\n",
    "    scores = cross_val_score(knn,\n",
    "                             X_train, \n",
    "                             y_train, \n",
    "                             cv = 10, \n",
    "                             scoring='accuracy')\n",
    "    cross_vals.append(scores.mean())\n",
    "\n",
    "MSE = [1 - x for x in cross_vals]\n",
    "optimal_k = knn_k[MSE.index(min(MSE))]\n",
    "print(\"Optimal K is {0}\".format(optimal_k))"
   ]
  },
  {
   "cell_type": "code",
   "execution_count": 24,
   "metadata": {
    "collapsed": false
   },
   "outputs": [
    {
     "name": "stdout",
     "output_type": "stream",
     "text": [
      "KfoldCrossVal mean score using kNN is 0.962291117558\n",
      "Accuracy score using kNN is 0.959197629359\n"
     ]
    }
   ],
   "source": [
    "# setting kNN classifier\n",
    "knn = KNeighborsClassifier(n_neighbors=1)\n",
    "\n",
    "#dividing data to have a training and a testing set\n",
    "#X_train, X_test, y_train, y_test = train_test_split(X, y, test_size= .4, random_state=0)\n",
    "\n",
    "# kNN cross validation\n",
    "Kfold = KFold(len(X_train), n_folds=5, shuffle=False)\n",
    "print(\"KfoldCrossVal mean score using kNN is %s\" %cross_val_score(knn,X_train,y_train,cv=10,scoring='accuracy').mean())\n",
    "\n",
    "# kNN metrics\n",
    "kNNm = knn.fit(X_train, y_train)\n",
    "\n",
    "y_pred = kNNm.predict(X_test)\n",
    "print(\"Accuracy score using kNN is %s\" %metrics.accuracy_score(y_test, y_pred))"
   ]
  },
  {
   "cell_type": "markdown",
   "metadata": {},
   "source": [
    "### Summary of Part A"
   ]
  },
  {
   "cell_type": "markdown",
   "metadata": {},
   "source": [
    "**kNN performance varied as follows:**\n",
    ">As __k__ was incremented, accuracy decreased\n",
    "\n",
    ">For different types of data:\n",
    ">> Results were best for __Normalized data__\n",
    ">>#Normalised Data : 0.95919762\n",
    ">>#Unscaled Data : 0.9512195\n",
    ">>#Scaled Data : 0.94985183"
   ]
  },
  {
   "cell_type": "markdown",
   "metadata": {},
   "source": [
    ">__Function to run further models__\n",
    "\n",
    ">It is easy to run different models in this fashion"
   ]
  },
  {
   "cell_type": "code",
   "execution_count": 25,
   "metadata": {
    "collapsed": true
   },
   "outputs": [],
   "source": [
    "def run_model( X, y, model):\n",
    "    X_train, X_test, y_train, y_test = train_test_split(X, y, test_size= .3, random_state=0)\n",
    "\n",
    "    Kfold = KFold(len(X), n_folds=5, shuffle=False)\n",
    "    KfoldCrossVal_mean_score =cross_val_score(model,X,y,cv=10).mean()\n",
    "    \n",
    "    sm = model.fit(X_train, y_train)\n",
    "    y_pred = sm.predict(X_test)\n",
    "    Accuracy_score = metrics.accuracy_score(y_test, y_pred)\n",
    "    return KfoldCrossVal_mean_score,Accuracy_score"
   ]
  },
  {
   "cell_type": "markdown",
   "metadata": {},
   "source": [
    "# PART B- Decision Trees & Random Forest"
   ]
  },
  {
   "cell_type": "markdown",
   "metadata": {},
   "source": [
    "__For Unscaled Data__"
   ]
  },
  {
   "cell_type": "code",
   "execution_count": 26,
   "metadata": {
    "collapsed": false
   },
   "outputs": [
    {
     "name": "stdout",
     "output_type": "stream",
     "text": [
      "For DecisionTree Classifier\n",
      "KfoldCrossVal mean score is 0.982424658295\n",
      "Accuracy score is 0.975609756098\n"
     ]
    }
   ],
   "source": [
    "KfoldCrossVal_mean_score,Accuracy_score = run_model( X, y, DecisionTreeClassifier() )\n",
    "print(\"For DecisionTree Classifier\")\n",
    "print(\"KfoldCrossVal mean score is %s\" %KfoldCrossVal_mean_score)\n",
    "print(\"Accuracy score is %s\" %Accuracy_score)"
   ]
  },
  {
   "cell_type": "code",
   "execution_count": 27,
   "metadata": {
    "collapsed": false
   },
   "outputs": [
    {
     "name": "stdout",
     "output_type": "stream",
     "text": [
      "For RandomForest Classifier\n",
      "KfoldCrossVal mean score is 0.990561436292\n",
      "Accuracy score is 0.986779120128\n"
     ]
    }
   ],
   "source": [
    "KfoldCrossVal_mean_score,Accuracy_score = run_model( X, y, RandomForestClassifier() )\n",
    "print(\"For RandomForest Classifier\")\n",
    "print(\"KfoldCrossVal mean score is %s\" %KfoldCrossVal_mean_score)\n",
    "print(\"Accuracy score is %s\" %Accuracy_score)"
   ]
  },
  {
   "cell_type": "markdown",
   "metadata": {},
   "source": [
    "__For Scaled Data__"
   ]
  },
  {
   "cell_type": "code",
   "execution_count": 28,
   "metadata": {
    "collapsed": false
   },
   "outputs": [
    {
     "name": "stdout",
     "output_type": "stream",
     "text": [
      "For DecisionTree Classifier\n",
      "KfoldCrossVal mean score is 0.982287392372\n",
      "Accuracy score is 0.974697971279\n"
     ]
    }
   ],
   "source": [
    "KfoldCrossVal_mean_score,Accuracy_score = run_model( scaled_df(X), y, DecisionTreeClassifier() )\n",
    "print(\"For DecisionTree Classifier\")\n",
    "print(\"KfoldCrossVal mean score is %s\" %KfoldCrossVal_mean_score)\n",
    "print(\"Accuracy score is %s\" %Accuracy_score)"
   ]
  },
  {
   "cell_type": "code",
   "execution_count": 29,
   "metadata": {
    "collapsed": false
   },
   "outputs": [
    {
     "name": "stdout",
     "output_type": "stream",
     "text": [
      "For RandomForest Classifier\n",
      "KfoldCrossVal mean score is 0.990082313044\n",
      "Accuracy score is 0.986551173923\n"
     ]
    }
   ],
   "source": [
    "KfoldCrossVal_mean_score,Accuracy_score = run_model( scaled_df(X), y, RandomForestClassifier() )\n",
    "print(\"For RandomForest Classifier\")\n",
    "print(\"KfoldCrossVal mean score is %s\" %KfoldCrossVal_mean_score)\n",
    "print(\"Accuracy score is %s\" %Accuracy_score)"
   ]
  },
  {
   "cell_type": "markdown",
   "metadata": {},
   "source": [
    "__For Normalized Data__"
   ]
  },
  {
   "cell_type": "code",
   "execution_count": 30,
   "metadata": {
    "collapsed": false
   },
   "outputs": [
    {
     "name": "stdout",
     "output_type": "stream",
     "text": [
      "For DecisionTree Classifier\n",
      "KfoldCrossVal mean score is 0.981398620005\n",
      "Accuracy score is 0.974014132665\n"
     ]
    }
   ],
   "source": [
    "KfoldCrossVal_mean_score,Accuracy_score = run_model( normalize(X), y, DecisionTreeClassifier() )\n",
    "print(\"For DecisionTree Classifier\")\n",
    "print(\"KfoldCrossVal mean score is %s\" %KfoldCrossVal_mean_score)\n",
    "print(\"Accuracy score is %s\" %Accuracy_score)"
   ]
  },
  {
   "cell_type": "code",
   "execution_count": 31,
   "metadata": {
    "collapsed": false
   },
   "outputs": [
    {
     "name": "stdout",
     "output_type": "stream",
     "text": [
      "For RandomForest Classifier\n",
      "KfoldCrossVal mean score is 0.990492756577\n",
      "Accuracy score is 0.985867335309\n"
     ]
    }
   ],
   "source": [
    "KfoldCrossVal_mean_score,Accuracy_score = run_model( normalize(X), y, RandomForestClassifier() )\n",
    "print(\"For RandomForest Classifier\")\n",
    "print(\"KfoldCrossVal mean score is %s\" %KfoldCrossVal_mean_score)\n",
    "print(\"Accuracy score is %s\" %Accuracy_score)"
   ]
  },
  {
   "cell_type": "markdown",
   "metadata": {},
   "source": [
    "### Summary of Part B"
   ]
  },
  {
   "cell_type": "markdown",
   "metadata": {},
   "source": [
    "**Decision Tree performance varied as follows:**\n",
    ">For different types of data, Results were best for __Normalized data__\n",
    ">>#Normalised Data : 0.97583770\n",
    ">>#Unscaled Data : 0.97515386\n",
    ">>#Scaled Data : 0.975609756\n",
    "\n",
    "**Random Forest performance varied as follows:**\n",
    ">For different types of data, Results were best for __Scaled data__\n",
    ">>#Normalised Data : 0.98609528\n",
    ">>#Unscaled Data : 0.98677912\n",
    ">>#Scaled Data : 0.98700706\n",
    "\n",
    "### Overall Random Forest performed better than Decision Tree"
   ]
  },
  {
   "cell_type": "markdown",
   "metadata": {},
   "source": [
    "# PART C - Naive Bayes"
   ]
  },
  {
   "cell_type": "markdown",
   "metadata": {},
   "source": [
    "__For Unscaled Data__"
   ]
  },
  {
   "cell_type": "code",
   "execution_count": 32,
   "metadata": {
    "collapsed": false
   },
   "outputs": [
    {
     "name": "stdout",
     "output_type": "stream",
     "text": [
      "For BernoulliNB Classifier\n",
      "KfoldCrossVal mean score is 0.755795697003\n",
      "Accuracy score is 0.765443355368\n"
     ]
    }
   ],
   "source": [
    "KfoldCrossVal_mean_score,Accuracy_score = run_model( X, y, BernoulliNB() )\n",
    "print(\"For BernoulliNB Classifier\")\n",
    "print(\"KfoldCrossVal mean score is %s\" %KfoldCrossVal_mean_score)\n",
    "print(\"Accuracy score is %s\" %Accuracy_score)"
   ]
  },
  {
   "cell_type": "code",
   "execution_count": 33,
   "metadata": {
    "collapsed": false
   },
   "outputs": [
    {
     "name": "stdout",
     "output_type": "stream",
     "text": [
      "For MultinomialNB Classifier\n",
      "KfoldCrossVal mean score is 0.755316994275\n",
      "Accuracy score is 0.765443355368\n"
     ]
    }
   ],
   "source": [
    "KfoldCrossVal_mean_score,Accuracy_score = run_model( X, y, MultinomialNB() )\n",
    "print(\"For MultinomialNB Classifier\")\n",
    "print(\"KfoldCrossVal mean score is %s\" %KfoldCrossVal_mean_score)\n",
    "print(\"Accuracy score is %s\" %Accuracy_score)"
   ]
  },
  {
   "cell_type": "code",
   "execution_count": 34,
   "metadata": {
    "collapsed": false
   },
   "outputs": [
    {
     "name": "stdout",
     "output_type": "stream",
     "text": [
      "For GaussianNB Classifier\n",
      "KfoldCrossVal mean score is 0.692340490465\n",
      "Accuracy score is 0.670845680419\n"
     ]
    }
   ],
   "source": [
    "KfoldCrossVal_mean_score,Accuracy_score = run_model( X, y, GaussianNB() )\n",
    "print(\"For GaussianNB Classifier\")\n",
    "print(\"KfoldCrossVal mean score is %s\" %KfoldCrossVal_mean_score)\n",
    "print(\"Accuracy score is %s\" %Accuracy_score)"
   ]
  },
  {
   "cell_type": "markdown",
   "metadata": {},
   "source": [
    "__For Scaled Data__"
   ]
  },
  {
   "cell_type": "code",
   "execution_count": 35,
   "metadata": {
    "collapsed": false
   },
   "outputs": [
    {
     "name": "stdout",
     "output_type": "stream",
     "text": [
      "For BernoulliNB Classifier\n",
      "KfoldCrossVal mean score is 0.769130879846\n",
      "Accuracy score is 0.777752450422\n"
     ]
    }
   ],
   "source": [
    "KfoldCrossVal_mean_score,Accuracy_score = run_model( scaled_df(X), y, BernoulliNB() )\n",
    "print(\"For BernoulliNB Classifier\")\n",
    "print(\"KfoldCrossVal mean score is %s\" %KfoldCrossVal_mean_score)\n",
    "print(\"Accuracy score is %s\" %Accuracy_score)"
   ]
  },
  {
   "cell_type": "code",
   "execution_count": 36,
   "metadata": {
    "collapsed": false
   },
   "outputs": [
    {
     "name": "stdout",
     "output_type": "stream",
     "text": [
      "For MultinomialNB Classifier\n",
      "KfoldCrossVal mean score is 0.754291282872\n",
      "Accuracy score is 0.764987462959\n"
     ]
    }
   ],
   "source": [
    "KfoldCrossVal_mean_score,Accuracy_score = run_model( scaled_df(X), y, MultinomialNB() )\n",
    "print(\"For MultinomialNB Classifier\")\n",
    "print(\"KfoldCrossVal mean score is %s\" %KfoldCrossVal_mean_score)\n",
    "print(\"Accuracy score is %s\" %Accuracy_score)"
   ]
  },
  {
   "cell_type": "code",
   "execution_count": 37,
   "metadata": {
    "collapsed": false
   },
   "outputs": [
    {
     "name": "stdout",
     "output_type": "stream",
     "text": [
      "For GaussianNB Classifier\n",
      "KfoldCrossVal mean score is 0.692340490465\n",
      "Accuracy score is 0.670845680419\n"
     ]
    }
   ],
   "source": [
    "KfoldCrossVal_mean_score,Accuracy_score = run_model( scaled_df(X), y, GaussianNB() )\n",
    "print(\"For GaussianNB Classifier\")\n",
    "print(\"KfoldCrossVal mean score is %s\" %KfoldCrossVal_mean_score)\n",
    "print(\"Accuracy score is %s\" %Accuracy_score)"
   ]
  },
  {
   "cell_type": "markdown",
   "metadata": {},
   "source": [
    "### Summary of Part C"
   ]
  },
  {
   "cell_type": "markdown",
   "metadata": {},
   "source": [
    "**Naive Bayes performance varied as follows:**\n",
    ">For different types of data, Results were best for __Scaled data__\n",
    ">>#Unscaled Data : 0.76544335\n",
    ">>#Scaled Data : 0.77775245\n",
    "\n",
    "Out of **Bernoulli, Multinomial ,Gaussian Naive Bayes** performance is varied as follows:\n",
    ">For different types of data, Results were best for __Bernoulli data__\n",
    ">>#Bernoulli Data : 0.77775245\n",
    ">>#Multinomial Data : 0.76498746\n",
    ">>#Gaussian Data : 0.67084568\n",
    "\n",
    "### Overall Scaled data for Bernoulli NB performed better than All"
   ]
  },
  {
   "cell_type": "markdown",
   "metadata": {},
   "source": [
    "# PART D - Support Vector Machines"
   ]
  },
  {
   "cell_type": "markdown",
   "metadata": {},
   "source": [
    "__For Unscaled Data__"
   ]
  },
  {
   "cell_type": "code",
   "execution_count": 38,
   "metadata": {
    "collapsed": false
   },
   "outputs": [
    {
     "name": "stdout",
     "output_type": "stream",
     "text": [
      "For RBF Kernel SVM Classifier\n",
      "KfoldCrossVal mean score is 0.949257092892\n",
      "Accuracy score is 0.946660588101\n"
     ]
    }
   ],
   "source": [
    "svc = SVC().fit(X, y)\n",
    "KfoldCrossVal_mean_score,Accuracy_score = run_model( X, y, svc )\n",
    "print(\"For RBF Kernel SVM Classifier\")\n",
    "print(\"KfoldCrossVal mean score is %s\" %KfoldCrossVal_mean_score)\n",
    "print(\"Accuracy score is %s\" %Accuracy_score)"
   ]
  },
  {
   "cell_type": "markdown",
   "metadata": {},
   "source": [
    "__For Scaled Data__"
   ]
  },
  {
   "cell_type": "code",
   "execution_count": 39,
   "metadata": {
    "collapsed": false
   },
   "outputs": [
    {
     "name": "stdout",
     "output_type": "stream",
     "text": [
      "For RBF Kernel SVM Classifier\n",
      "KfoldCrossVal mean score is 0.949257092892\n",
      "Accuracy score is 0.946660588101\n"
     ]
    }
   ],
   "source": [
    "svc = SVC().fit(scaled_df(X), y)\n",
    "KfoldCrossVal_mean_score,Accuracy_score = run_model( X, y, svc )\n",
    "print(\"For RBF Kernel SVM Classifier\")\n",
    "print(\"KfoldCrossVal mean score is %s\" %KfoldCrossVal_mean_score)\n",
    "print(\"Accuracy score is %s\" %Accuracy_score)"
   ]
  },
  {
   "cell_type": "markdown",
   "metadata": {},
   "source": [
    "__For Normalized Data__"
   ]
  },
  {
   "cell_type": "code",
   "execution_count": 40,
   "metadata": {
    "collapsed": false
   },
   "outputs": [
    {
     "name": "stdout",
     "output_type": "stream",
     "text": [
      "For RBF Kernel SVM Classifier\n",
      "KfoldCrossVal mean score is 0.949257092892\n",
      "Accuracy score is 0.946660588101\n"
     ]
    }
   ],
   "source": [
    "svc = SVC().fit(normalize(X), y)\n",
    "KfoldCrossVal_mean_score,Accuracy_score = run_model( X, y, svc )\n",
    "print(\"For RBF Kernel SVM Classifier\")\n",
    "print(\"KfoldCrossVal mean score is %s\" %KfoldCrossVal_mean_score)\n",
    "print(\"Accuracy score is %s\" %Accuracy_score)"
   ]
  },
  {
   "cell_type": "markdown",
   "metadata": {},
   "source": [
    "### Summary of Part D"
   ]
  },
  {
   "cell_type": "markdown",
   "metadata": {},
   "source": [
    "**SVM performance varied as follows:**\n",
    ">For different types of data, Results were __same for all types of data__\n",
    ">>#Unscaled Data : 0.946660588101\n",
    ">>#Scaled Data : 0.946660588101\n",
    ">>#Normalized Data : 0.946660588101\n",
    "\n",
    "For all kernels other than RBF (default kernel), runtime of SVM very large.\n",
    "\n",
    "### SVM determines decision function which comes out as same, hence no difference produced by scaling or normalizing data."
   ]
  },
  {
   "cell_type": "markdown",
   "metadata": {},
   "source": [
    "----------------------------------"
   ]
  },
  {
   "cell_type": "markdown",
   "metadata": {},
   "source": [
    "----------------------------------"
   ]
  },
  {
   "cell_type": "markdown",
   "metadata": {
    "collapsed": true
   },
   "source": [
    "# PART E - Comparison"
   ]
  },
  {
   "cell_type": "markdown",
   "metadata": {},
   "source": [
    "## Random Forest Classification algorithm has the highest accuracy."
   ]
  },
  {
   "cell_type": "markdown",
   "metadata": {},
   "source": [
    "### Accuracy over 98.6%"
   ]
  },
  {
   "cell_type": "markdown",
   "metadata": {},
   "source": [
    "Majority of my Data contains data which is not continuous, like:\n",
    "* Satisfaction Level\n",
    "* Years Worked\n",
    "* Promotion\n",
    "* Number of Projects,etc.\n",
    "\n",
    "Such kind of data makes it very intuitive for trees to make decisions based on their __YES__ or __NO__ value.\n",
    "Hence Decision trees were giving accuracy of __97.5%__"
   ]
  },
  {
   "cell_type": "markdown",
   "metadata": {},
   "source": [
    "The random forest is an Ensemble Method, that combines decision trees. \n",
    "Ensembles are a divide-and-conquer approach used to improve performance. The main principle behind ensemble methods is that a group of “weak learners” can come together to form a “strong learner\".\n",
    "\n",
    "Thus, in ensemble terms, the trees are weak learners and the random forest is a strong learner."
   ]
  },
  {
   "cell_type": "markdown",
   "metadata": {},
   "source": [
    "Hence accuracy of Random forest is highest and that's why __best model__ for my data set."
   ]
  }
 ],
 "metadata": {
  "kernelspec": {
   "display_name": "Python 3",
   "language": "python",
   "name": "python3"
  },
  "language_info": {
   "codemirror_mode": {
    "name": "ipython",
    "version": 3
   },
   "file_extension": ".py",
   "mimetype": "text/x-python",
   "name": "python",
   "nbconvert_exporter": "python",
   "pygments_lexer": "ipython3",
   "version": "3.5.4"
  }
 },
 "nbformat": 4,
 "nbformat_minor": 0
}
